{
 "cells": [
  {
   "cell_type": "code",
   "execution_count": 7,
   "id": "88c62cbc",
   "metadata": {},
   "outputs": [
    {
     "name": "stdout",
     "output_type": "stream",
     "text": [
      "\n",
      "Thank you.  Please proceed to parking.\n",
      "\n",
      "Hello!  To park, enter 'park'.  \n",
      "To pay for your ticket, enter 'pay'.  \n",
      "To exit the garage, enter 'exit'. \n",
      "To quit, enter 'quit'.pay\n",
      "\n",
      "Please pay for your ticket. paid\n",
      "\n",
      "Your ticket has been paid. You have 15 mins to exit the parking lot.\n",
      "\n",
      "Hello!  To park, enter 'park'.  \n",
      "To pay for your ticket, enter 'pay'.  \n",
      "To exit the garage, enter 'exit'. \n",
      "To quit, enter 'quit'.exit\n",
      "\n",
      "Thank you, have a nice day!\n"
     ]
    }
   ],
   "source": [
    "from IPython.display import clear_output       \n",
    "\n",
    "class ParkingGarage():\n",
    "    def __init__(self):\n",
    "        self.tickets = [1,1,1,1,1]\n",
    "        self.parkingSpaces = [1,1,1,1,1]\n",
    "        self.currentTicket = {'paid': False}\n",
    "\n",
    "    def takeTicket(self):\n",
    "        self.tickets.remove(1)\n",
    "        self.parkingSpaces.remove(1)\n",
    "        clear_output()\n",
    "        print(\"\\nThank you.  Please proceed to parking.\")\n",
    "\n",
    "    def payForParking(self):\n",
    "#         clear_output()\n",
    "        payment = input(\"\\nPlease pay for your ticket. \")\n",
    "        if payment:\n",
    "#             clear_output()\n",
    "            print(\"\\nYour ticket has been paid. You have 15 mins to exit the parking lot.\")\n",
    "            self.currentTicket['paid'] = True\n",
    "\n",
    "    def leaveGarage(self):\n",
    "        if self.currentTicket['paid']:\n",
    "#             clear_output()\n",
    "            print(\"\\nThank you, have a nice day!\")\n",
    "        else:\n",
    "#             clear_output()\n",
    "            payment = input(\"\\nPlease enter payment now.\")\n",
    "            if payment:\n",
    "                print(\"\\nThank you, have a nice day!\")\n",
    "        self.parkingSpaces.append(1)\n",
    "        self.tickets.append(1)\n",
    "    \n",
    "\n",
    "def run():\n",
    "    garage = ParkingGarage()\n",
    "    while True:\n",
    "        response = input(\"\\nHello!  To park, enter 'park'.  \\nTo pay for your ticket, enter 'pay'.  \\nTo exit the garage, enter 'exit'. \\nTo quit, enter 'quit'.\")\n",
    "        if response.lower() == 'park':\n",
    "            garage.takeTicket()\n",
    "        elif response.lower() == 'pay':\n",
    "            garage.payForParking()\n",
    "        elif response.lower() == 'exit':\n",
    "            garage.leaveGarage()\n",
    "            break\n",
    "        elif response.lower() == 'quit':\n",
    "#             clear_output()\n",
    "            break\n",
    "        else:\n",
    "            print('Try another command')\n",
    "run()\n"
   ]
  },
  {
   "cell_type": "code",
   "execution_count": null,
   "id": "57c0411c",
   "metadata": {},
   "outputs": [],
   "source": []
  },
  {
   "cell_type": "code",
   "execution_count": null,
   "id": "dd2803ac",
   "metadata": {},
   "outputs": [],
   "source": []
  }
 ],
 "metadata": {
  "kernelspec": {
   "display_name": "Python 3 (ipykernel)",
   "language": "python",
   "name": "python3"
  },
  "language_info": {
   "codemirror_mode": {
    "name": "ipython",
    "version": 3
   },
   "file_extension": ".py",
   "mimetype": "text/x-python",
   "name": "python",
   "nbconvert_exporter": "python",
   "pygments_lexer": "ipython3",
   "version": "3.11.3"
  }
 },
 "nbformat": 4,
 "nbformat_minor": 5
}
